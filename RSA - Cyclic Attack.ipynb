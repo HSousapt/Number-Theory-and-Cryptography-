{
 "cells": [
  {
   "cell_type": "markdown",
   "metadata": {},
   "source": [
    "# Teoria de Números Computacionais\n",
    "## Trabalho 3: Ataque cíclico ao RSA\n",
    "\n",
    "#### Hugo Sousa (a76257 - LCC)\n",
    "#### Matias Capitão (a82726 - LCC) \n",
    "#### Rafael Antunes (a77457 - LCC)"
   ]
  },
  {
   "cell_type": "markdown",
   "metadata": {},
   "source": [
    "### Ataque cíclico ao RSA\n",
    "\n",
    "\n",
    "Tomemos o sistema de cifração RSA. Sejam **p e q** dois primos, $n = pq$ e **e** tal que $0 < e < ϕ(n)$ e $mdc(e, ϕ(n)) = 1$ o expoente de cifração da chave público, e por fim __d__ tal que $e*d ≡ 1 (mod ϕ(n))$ o expoente de decifração da chave privada. e $M∈Z_n$ uma mensagem.\n",
    "\n",
    "Seja $C$ a mensagem cifrada tal que $C = M^e mod n$, e  seja **k** um inteiro positivo tal que $C^{e^k} mod n = C$, como a encriptação é uma permutação no espaço da mensagem ou seja é uma permutação em $\\{0, 1, ..., n-1\\}$ temos que __k__ existe e pela mesma razão $C^{e^{k-1}} mod n = M$. esta propriedade leva à formação do ataque cíclico à encriptação RSA."
   ]
  },
  {
   "cell_type": "markdown",
   "metadata": {},
   "source": [
    "### Formulação do Ataque\n",
    "\n",
    "Vamos supor que Alice manda uma mensagem a Bob então Bob irá receber a mensagem cifrada $C$ tal que $C = M^e mod n$.\n",
    "\n",
    "Vamos supor agora que Chuck intercepta a mensagem cifrada $C$, Chuck tem a mensagem cifrada e tem acesso à chave pública de bob, entao para descobrir a mensagem pode efetuar o seguinte algoritmo:\n",
    "\n",
    "\n",
    "\n",
    "<center> Chuck computa $C^{e^1} mod$ n , $C^{e^2} mod$ n, ..., até que para algum p:  $C^{e^p} mod n = M$ </center>\n",
    "<center> Ora isto significa então que $C^{e^{p+1}} mod n = C$ </center>\n",
    "\n",
    "\n",
    "#### Nota:\n",
    "\n",
    "\n",
    "Note-se que Chuck não precisa de ter acesso à mensagem original embora a formulação do ataque assim o faça parecer, pois pela propriedade que vimos em cima, temos que, existe um **k** tal que $C^{e^k} mod n = C mod n$ então\n",
    "\n",
    "\n",
    "<center> $C^{e^{k-1}} mod n= C^{e^{k}*e^{-1}} mod n= (C^{e^k})^{e^{-1}} mod n= C^{e^{-1}} mod n$</center>\n",
    "\n",
    "logo, pela definição de chave privada temos que $d = e^{-1} (mod ϕ(n))$ donde resulta que:\n",
    "<center> $C^{e^{k-1}} = C^d = M(mod n)$ </center>"
   ]
  },
  {
   "cell_type": "code",
   "execution_count": 1,
   "metadata": {},
   "outputs": [],
   "source": [
    "#Classe que define um sistema RSA com funções de encriptação, decriptação\n",
    "class RSA_cipher:\n",
    "\n",
    "    def __init__(self):\n",
    "        n,e,d = RSA_cipher.gen_keys()\n",
    "        self.n = n # p*q\n",
    "        self.public = e # exponent of public key\n",
    "        self.private = d # exponent of private key\n",
    "\n",
    "    def publish(self):\n",
    "        return(self.n, self.public)\n",
    "\n",
    "    #Cipher a message to send using the public key of the receiver\n",
    "    def cipher(self, msg, public_key):\n",
    "        return power_mod(msg, public_key[1], public_key[0])\n",
    "\n",
    "\n",
    "    #Decipher a message using private key\n",
    "    def decipher(self, msg):\n",
    "        return power_mod(msg, self.private, self.n)\n",
    "\n",
    "    #Function to generate the public and private keys\n",
    "    @staticmethod\n",
    "    def gen_keys(nbits = 16):\n",
    "        p = random_prime(2^(nbits//2), 2^(nbits//2-2))\n",
    "        q = random_prime(2^(nbits//2 +1), 2^(nbits//2 -1))\n",
    "\n",
    "        while p == q:\n",
    "            p = random_prime(2^(nbits//2), 2^(nbits//2-2))\n",
    "            q = random_prime(2^(nbits//2 +1), 2^(nbits//2 -1))\n",
    "\n",
    "        n = p*q\n",
    "        m = (p-1)*(q-1)\n",
    "        e = randint(2, m-1)\n",
    "        while gcd(e, m) != 1:\n",
    "            e = randint(2,m-1)\n",
    "\n",
    "        d = power_mod(e, -1, m)\n",
    "\n",
    "        return n,e,d"
   ]
  },
  {
   "cell_type": "markdown",
   "metadata": {},
   "source": [
    "### Exemplo"
   ]
  },
  {
   "cell_type": "code",
   "execution_count": 2,
   "metadata": {},
   "outputs": [
    {
     "data": {
      "text/plain": [
       "(28243, 24881)"
      ]
     },
     "execution_count": 2,
     "metadata": {},
     "output_type": "execute_result"
    }
   ],
   "source": [
    "#Alice cria o seu sistema de encriptação RSA e publica a sua chava publica\n",
    "Alice = RSA_cipher()\n",
    "public_alice = Alice.publish()\n",
    "public_alice"
   ]
  },
  {
   "cell_type": "code",
   "execution_count": 3,
   "metadata": {},
   "outputs": [
    {
     "data": {
      "text/plain": [
       "9700"
      ]
     },
     "execution_count": 3,
     "metadata": {},
     "output_type": "execute_result"
    }
   ],
   "source": [
    "#Bob quer mandar uma mensagem a Alice\n",
    "bob_msg = 123\n",
    "\n",
    "#Bob cifra a sua mensagem com a chave publica de alice\n",
    "Bob = RSA_cipher()\n",
    "enc_msg = Bob.cipher(bob_msg, public_alice)\n",
    "enc_msg"
   ]
  },
  {
   "cell_type": "code",
   "execution_count": 4,
   "metadata": {},
   "outputs": [
    {
     "data": {
      "text/plain": [
       "6"
      ]
     },
     "execution_count": 4,
     "metadata": {},
     "output_type": "execute_result"
    }
   ],
   "source": [
    "#Chuck intercepta a mensagem encriptada e vai proceder ao ataque\n",
    "\n",
    "#função que vai cifrar em ciclo a mensagem com a chave publica de ALice até obter a mensagem cifrada original retornando \n",
    "#o número de vezes que foi necessário cifrar a mensagem para obter a cifração original\n",
    "def cyclic_attack(msg, enc_msg, pk):\n",
    "    i = 1\n",
    "    while(power_mod(enc_msg, pow(pk[1],i) , pk[0]) != enc_msg):\n",
    "        i += 1\n",
    "    return i\n",
    "\n",
    "k = cyclic_attack(bob_msg, enc_msg, public_alice)\n",
    "k"
   ]
  },
  {
   "cell_type": "code",
   "execution_count": 5,
   "metadata": {},
   "outputs": [
    {
     "data": {
      "text/plain": [
       "123"
      ]
     },
     "execution_count": 5,
     "metadata": {},
     "output_type": "execute_result"
    }
   ],
   "source": [
    "m1 = power_mod(enc_msg, pow(public_alice[1], (k-1)), public_alice[0])\n",
    "m1"
   ]
  },
  {
   "cell_type": "code",
   "execution_count": 6,
   "metadata": {},
   "outputs": [
    {
     "data": {
      "text/plain": [
       "True"
      ]
     },
     "execution_count": 6,
     "metadata": {},
     "output_type": "execute_result"
    }
   ],
   "source": [
    "#Note-se então que este processo dá o mesmo resultado que Alice decifrar a mensagem com a sua chave privada\n",
    "m2 = Alice.decipher(enc_msg)\n",
    "\n",
    "m1 == m2"
   ]
  },
  {
   "cell_type": "markdown",
   "metadata": {},
   "source": [
    "#### Nota final:\n",
    "\n",
    "É de notar que este tipo de ataques é inefectivo num cenário real visto que ele é análogo a factorizar n."
   ]
  },
  {
   "cell_type": "markdown",
   "metadata": {},
   "source": [
    "### Bibliografia\n",
    "\n",
    "A. Menezes, P. van Oorschot and S. Vanstone. - _Handbook of Applied Cryptography_\n",
    "\n",
    "<https://crypto.stackexchange.com/questions/1572/cycle-attack-on-rsa>"
   ]
  }
 ],
 "metadata": {
  "kernelspec": {
   "display_name": "SageMath 8.6",
   "language": "",
   "name": "sagemath"
  },
  "language_info": {
   "codemirror_mode": {
    "name": "ipython",
    "version": 2
   },
   "file_extension": ".py",
   "mimetype": "text/x-python",
   "name": "python",
   "nbconvert_exporter": "python",
   "pygments_lexer": "ipython2",
   "version": "2.7.16"
  }
 },
 "nbformat": 4,
 "nbformat_minor": 4
}
