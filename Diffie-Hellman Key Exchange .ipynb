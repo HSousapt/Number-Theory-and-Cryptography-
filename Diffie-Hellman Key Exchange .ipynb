{
 "cells": [
  {
   "cell_type": "markdown",
   "metadata": {},
   "source": [
    "## Teoria de Números Computacional\n",
    "### Trabalho 2 - Diffie-Hellman key exchange"
   ]
  },
  {
   "cell_type": "markdown",
   "metadata": {},
   "source": [
    "#### Hugo Sousa (a76257 - LCC)\n",
    "#### Matias Capitão (a82726 - LCC) \n",
    "#### Rafael Antunes (a77457 - LCC)"
   ]
  },
  {
   "cell_type": "markdown",
   "metadata": {},
   "source": [
    "### Motivação \n",
    "\n",
    "Se a Alice e o Bob querem comunicar por um canal inseguro e concordam em usar uma cifra simétrica, põe-se então a seguinte questão:\n",
    "    **Como é que a Alice e o Bob podem partilhar a chave secreta?**.\n",
    "\n",
    "Este é conhecido como o _\"problema de distribuição de chaves\"_.\n",
    "\n",
    "O método de troca de chaves _**Diffie-Hellman**_ resolve este problema. Este método é uma aplicação do problema do logaritmo discreto no grupo multiplicativo _**\\<g> = $Z^*_p$**_ onde g é uma raiz primitiva de p."
   ]
  },
  {
   "cell_type": "markdown",
   "metadata": {},
   "source": [
    "### Protocolo de configuração do Diffie-Hellman\n",
    "\n",
    "**1.** Escolher um número primo grande **p**.\n",
    "\n",
    "**2.** Escolher um **g**, tal que **g** é uma raiz primitiva módulo **p**, mais concretamente **g** é um gerador de $Z^*_p$ (grupo múltiplicativo módulo p)\n",
    "\n",
    "**3.** Publicar **p** e **g**"
   ]
  },
  {
   "cell_type": "markdown",
   "metadata": {},
   "source": [
    "### Protocolo de troca de chaves do Diffie-Hellman\n",
    "\n",
    "Como p e g são públicos Alice e Bob vão efetuar os seguintes passos:\n",
    "\n",
    "**1.** Alice e Bob escolhem um número aleatório respectivamente **a** e **b** de **{1,...,p-1}**, este número irá ser privado.\n",
    "\n",
    "**2.** Alice vai computar $A = g^a mod p$ e Bob vai computar $B = g^b mod p$\n",
    "\n",
    "**3.** Alice manda  **A** para Bob pelo canal inseguro, e Bob manda **B** para Alice pelo canal inseguro\n",
    "\n",
    "**4.** Alice usa **B** que recebeu do Bob e computa $B^a mod p$ e Bob usa **A** que recebeu de Alice e computa $A^b mod p$\n",
    "\n",
    "**5.** O resultado dessas duas operações é igual, pois $ =A^b mod p = (g^a mod p)^b = g^ab mod p = (g^b mod p)^a = B^a mod p = $ **k**.  \n",
    "\n",
    "Então **k** será a chave usada para a cifra simétrica da comunicação entre Alice e Bob.\n",
    "\n",
    "\n",
    "\n",
    "\n",
    "\n",
    "\n",
    "\n",
    "![alt text][diagram]\n",
    "\n",
    "[diagram]: https://www.researchgate.net/profile/Mandrita_Mondal/publication/332368903/figure/fig2/AS:746707394498561@1555040324478/Pictorial-representation-of-Diffie-Hellman-key-exchange-protocol.ppm \"DHKE\""
   ]
  },
  {
   "cell_type": "markdown",
   "metadata": {},
   "source": [
    "### Codificação"
   ]
  },
  {
   "cell_type": "code",
   "execution_count": 22,
   "metadata": {},
   "outputs": [],
   "source": [
    "import random\n",
    "\n",
    "class DHKE:\n",
    "    def __init__(self, n):\n",
    "        aux = random_prime(2^n,2^n+1)\n",
    "        self.p = aux\n",
    "        self.g = primitive_root(aux)\n",
    "\n",
    "    def publish(self):\n",
    "        print(self.p, self.g)\n",
    "\n",
    "    def gen_secret(self):\n",
    "        return(random.randint(1,(self.p)-1))\n",
    "\n",
    "    def compute(self, m, n):\n",
    "        return(power_mod(m, n, self.p))"
   ]
  },
  {
   "cell_type": "markdown",
   "metadata": {},
   "source": [
    "##### Exemplo 1: Alice e Bob querem comunicar"
   ]
  },
  {
   "cell_type": "code",
   "execution_count": 23,
   "metadata": {},
   "outputs": [
    {
     "name": "stdout",
     "output_type": "stream",
     "text": [
      "(304164752673956602752490430774504350901, 2)\n"
     ]
    }
   ],
   "source": [
    "# Alice e Bob \"escolhem\" um primo p(um grupo multiplicativo módulo p) e um gerador g(raiz primitiva módulo p)\n",
    "\n",
    "# n é a seed do gerador dos dois números\n",
    "n = 128\n",
    "\n",
    "#Os dois inteiros são gerados\n",
    "D = DHKE(n)\n",
    "\n",
    "#Os dois inteiros são_\n",
    "D.publish()"
   ]
  },
  {
   "cell_type": "code",
   "execution_count": 24,
   "metadata": {},
   "outputs": [
    {
     "data": {
      "text/plain": [
       "114189641299888238748071067107244543443L"
      ]
     },
     "execution_count": 24,
     "metadata": {},
     "output_type": "execute_result"
    }
   ],
   "source": [
    "#A Alice escolhe um número secreto entre {1,..,p-1}\n",
    "\n",
    "a = D.gen_secret()\n",
    "a"
   ]
  },
  {
   "cell_type": "code",
   "execution_count": 25,
   "metadata": {},
   "outputs": [
    {
     "data": {
      "text/plain": [
       "284300746941436845758254014745327062462L"
      ]
     },
     "execution_count": 25,
     "metadata": {},
     "output_type": "execute_result"
    }
   ],
   "source": [
    "#O Bob escolhe um número secreto entre {1,..,p-1}\n",
    "b = D.gen_secret()\n",
    "b"
   ]
  },
  {
   "cell_type": "code",
   "execution_count": 26,
   "metadata": {},
   "outputs": [],
   "source": [
    "#Alice computa o numero que gerou e envia a Bob\n",
    "A = D.compute(D.g, a)\n",
    "\n",
    "#Bob computa o numero que gerou e envia a Alice\n",
    "B = D.compute(D.g, b)"
   ]
  },
  {
   "cell_type": "code",
   "execution_count": 27,
   "metadata": {},
   "outputs": [
    {
     "name": "stdout",
     "output_type": "stream",
     "text": [
      "A chave secreta 'k' é -> 32954024766508317600969666952462235254 pode ser usada para a encriptação simétrica\n"
     ]
    }
   ],
   "source": [
    "#Alice computa o numero que recebeu de Bon\n",
    "sA = D.compute(B, a)\n",
    "\n",
    "#Bob computa o numero que recebeu de Alice\n",
    "sB = D.compute(A, b)\n",
    "\n",
    "if sA == sB:\n",
    "    print(\"A chave secreta 'k' é -> \" + str(sA) + \" pode ser usada para a encriptação simétrica\")"
   ]
  },
  {
   "cell_type": "markdown",
   "metadata": {},
   "source": [
    "#### Man in the Middle Attack"
   ]
  },
  {
   "cell_type": "markdown",
   "metadata": {},
   "source": [
    "Como explicamos tanto os valores de **p** e de **g**, como os valores de $A = g^a mod p$ e $B = g^b mod p$, são públicos, são por isso sujeitos a atacantes.\n",
    "\n",
    "Seja o atacante chamado Chuck, a questão que aqui se coloca é: _**será que Chuck consegue descobrir o valor da chave secreta 'k' partilhada por Alice e Bob, a partir dos valores que são públicos?**_\n",
    "\n",
    "Ora, em exemplos muito simples é possível descobrir-se o valor de **a** e **b** e consequentemente de **k**, mas em prática quando **p** é muito grande e os expoentes da exponenciação modular também o são, embora os computadores conseguem resolver os cálculos bastante rápido, o processo inverso é muito difícil de computar, é neste ponto que o protocolo de troca de chaves Diffie-Hellman toma proveito do problema do logaritmo discreto.\n",
    "\n",
    "Pois, seja N um número primo muito grande o grupo multiplicativo $Z^*_N$ tem exatamente N-1 elementos, o que faria com que **Chuck** precisa-se de percorrer enúmeros geradores e potências desses geradores de $Z^*_N$ para encontrar resposta, quando N tem centenas de dígitos ou mais, o problema do logaritmo discreto torna-se computacionalmente inviável."
   ]
  },
  {
   "cell_type": "markdown",
   "metadata": {},
   "source": [
    "No entanto, mesmo que Chuck não consiga descobrir os valores secretos de Alice e Bob existem formas de Chuck tomar partido deste protocolo, nomeadamente se Chuck interceptar os valores **A** e **B** e sabendo os valores públicos de **p** e de **g**, Chuck pode mandar os seus próprios valores públicos tanto a Alice como a Bob e assim pode furjar duas chaves: **k1** que irá partilhar com Alice, e **k2** que irá partilhar com Bob, a partir daqui Chuck pode ver as mensagens enviadas e possivelmente modificá-las.\n",
    "\n",
    "![alt text][MITM]\n",
    "\n",
    "[MITM]: https://i.imgur.com/Cq78TET.png?1 \"MITM\""
   ]
  },
  {
   "cell_type": "markdown",
   "metadata": {},
   "source": [
    "#### Exemplo 2: Chuck: The man in the middle"
   ]
  },
  {
   "cell_type": "code",
   "execution_count": 28,
   "metadata": {},
   "outputs": [
    {
     "name": "stdout",
     "output_type": "stream",
     "text": [
      "(222153088566641259361561068696378978821, 2)\n"
     ]
    }
   ],
   "source": [
    "# Alice e Bob \"escolhem\" um primo p(um grupo multiplicativo módulo p) e um gerador g(raiz primitiva módulo p)\n",
    "\n",
    "# n é a seed do gerador dos dois números\n",
    "n = 128\n",
    "\n",
    "#Os dois inteiros são gerados\n",
    "D = DHKE(n)\n",
    "\n",
    "#Os dois inteiros são_\n",
    "D.publish()\n",
    "\n",
    "#A Alice escolhe um número secreto entre {1,..,p-1}\n",
    "a = D.gen_secret()\n",
    "\n",
    "#O Bob escolhe um número secreto entre {1,..,p-1}\n",
    "b = D.gen_secret()\n",
    "\n"
   ]
  },
  {
   "cell_type": "code",
   "execution_count": 29,
   "metadata": {},
   "outputs": [],
   "source": [
    "#Alice computa o numero que gerou e envia a Bob\n",
    "A = D.compute(D.g, a)\n",
    "\n",
    "#Bob computa o numero que gerou e envia a Alice\n",
    "B = D.compute(D.g, b)"
   ]
  },
  {
   "cell_type": "code",
   "execution_count": 30,
   "metadata": {},
   "outputs": [],
   "source": [
    "#Neste ponto Chuck que está a ver a comunicação e está ciente dos valores públicos vai computar os seus valores públicos e privados\n",
    "\n",
    "#O Chuck escolhe um número secreto entre {1,..,p-1}\n",
    "c = D.gen_secret()\n",
    "\n",
    "#Chuck computa o numero que gerou e e troca-o pelo valor que Alice estava a tentar enviar a Bob, e envia essa valor a Bob\n",
    "cA = D.compute(D.g, c)\n",
    "\n",
    "#Chuck computa o numero que gerou e e troca-o pelo valor que Bob estava a tentar enviar a Alice, e envia esse valor a Alice\n",
    "cB = D.compute(D.g, c)"
   ]
  },
  {
   "cell_type": "code",
   "execution_count": 31,
   "metadata": {},
   "outputs": [
    {
     "name": "stdout",
     "output_type": "stream",
     "text": [
      "Chuck tem agora acesso às mensagens de Alice!!\n",
      "Chuck tem agora acesso às mensagens de Bob!!\n"
     ]
    }
   ],
   "source": [
    "#Alice computa o numero que recebeu de Chuck pensando ser de Bob\n",
    "k1 = D.compute(cB, a)\n",
    "\n",
    "#Chuck computa o numero que recebeu de Alice\n",
    "k11 =D.compute(A, c)\n",
    "\n",
    "if(k1==k11):\n",
    "    print(\"Chuck tem agora acesso às mensagens de Alice!!\")\n",
    "\n",
    "#Bob computa o numero que recebeu de Chuck pensando ser de Alice\n",
    "k2 = D.compute(cA, b)\n",
    "\n",
    "#Chuck computa o numero que recebeu de Bob\n",
    "k22 =D.compute(B, c)\n",
    "\n",
    "if(k2==k22):\n",
    "    print(\"Chuck tem agora acesso às mensagens de Bob!!\")"
   ]
  },
  {
   "cell_type": "markdown",
   "metadata": {},
   "source": [
    "### Solução\n",
    "\n",
    "O problema que aqui surge é que acordo de uma chave entre Alice e Bob não é autenticado, surge então a necessidade de de criar uma versão de Diffie-Hellman autênticada esta versão é conhecida como _**\"Station-to-Station protocol\"**_. Esta versão usa a noção de assinatura digital estudada no trabalho anterior, assim, embora Chuck consiga interceptar as mensagens de Alice e Bob, não consegue furjar a assinatura de Alice ou de Bob sem conhecer os valores privado de Alice ou Bob."
   ]
  },
  {
   "cell_type": "markdown",
   "metadata": {},
   "source": [
    "### Referências:\n",
    "\n",
    "<https://www.youtube.com/watch?v=ESPT_36pUFc> : \"The Mathematics of Diffie-Hellman Key Exchange | Infinite Series\"\n",
    "\n",
    "<https://en.wikipedia.org/wiki/Diffie%E2%80%93Hellman_key_exchange> \"Diffie–Hellman key exchange Wikipedia\"\n",
    "\n",
    "<https://www.youtube.com/watch?v=pwZebAcjoeo&list=PL1xkDS1G9As4Yz_te20j1A9evIjt5Z06e&index=118> : \"Applied Cryptography: Diffie–Hellman Key Exchange - Part 1\"\n",
    "\n",
    "William Stein : \"Elementary Number Theory:Primes, Congruences, and Secrets\"\n",
    "\n",
    "<https://stackoverflow.com/questions/10471009/how-does-the-man-in-the-middle-attack-work-in-diffie-hellman>"
   ]
  }
 ],
 "metadata": {
  "kernelspec": {
   "display_name": "Python 3",
   "language": "python",
   "name": "python3"
  },
  "language_info": {
   "codemirror_mode": {
    "name": "ipython",
    "version": 3
   },
   "file_extension": ".py",
   "mimetype": "text/x-python",
   "name": "python",
   "nbconvert_exporter": "python",
   "pygments_lexer": "ipython3",
   "version": "3.7.3"
  }
 },
 "nbformat": 4,
 "nbformat_minor": 4
}
