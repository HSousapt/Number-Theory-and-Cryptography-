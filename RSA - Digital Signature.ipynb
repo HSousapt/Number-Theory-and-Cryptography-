{
 "cells": [
  {
   "cell_type": "markdown",
   "metadata": {},
   "source": [
    "# Teoria de Números Computacionais\n",
    "## Trabalho 1: Esquema de assinatura digital RSA\n",
    "\n",
    "#### Hugo Sousa (a76257 - LCC)\n",
    "#### Matias Capitão (a82726 - LCC) \n",
    "#### Rafael Antunes (a77457 - LCC)"
   ]
  },
  {
   "cell_type": "markdown",
   "metadata": {},
   "source": [
    "### Assinatura digital RSA:\n",
    "\n",
    "A assinatura digital é um esquema matemático para verificar a autenticidade de uma mensagem. Uma assinatura válida dá-nos duas informações importantes sobre a comunicação efetuada:\n",
    "\n",
    "1. **Autenticação:**     O autor da mensagem tem na sua posse a chave privada do emissor\n",
    "2. **Integridade:**     A mensagem não foi alterada na transmissão"
   ]
  },
  {
   "cell_type": "markdown",
   "metadata": {},
   "source": [
    "### Método para a Assinatura digital RSA:\n",
    "\n",
    "\n",
    "Vamos supor que Alice quer mandar a mensagem **_M_** para o Bob.\n",
    "\n",
    "No esquema de assinatura digital RSA o remetente da mensagem tem de gerar as chaves: pública e privada tal como no algortimo de encriptação RSA. Então Alice gera as suas chaves: chave publica -> **_(n,e)_** e chave privada -> **_d_**.\n",
    "\n",
    "A Alice _\"assina\"_ a mensagem com a sua chave privada usando a fórmula:  $ S=M^d\\:mod\\:n $\n",
    "\n",
    "A Alice envia a mensagem **_M_** e a assinatura **_S_** para o Bob.\n",
    "\n",
    "O Bob então verifica a assinatura usando a chave pública de Alice usando a fórmula:  $$ M1=S^e\\:mod\\:n $$\n",
    "\n",
    "Se $$ M1 = M $$  Bob sabe que quem enviou a mensagem tem a chave de Alice e que a mensagem não foi alterada na transmissão, então Bob aceita a mensagem.\n",
    "\n",
    "Se $$ M1 \\ne M $$ Bob sabe que a mensagem não foi assinada pela chave de Alice ou que a mensagem foi alterada na transmissão."
   ]
  },
  {
   "cell_type": "markdown",
   "metadata": {},
   "source": [
    "![alt text][RSA_DG]\n",
    "\n",
    "[RSA_DG]: https://upload.wikimedia.org/wikipedia/commons/thumb/4/4d/Illustration_of_digital_signature.svg/506px-Illustration_of_digital_signature.svg.png \"RSA DG Ilustration\""
   ]
  },
  {
   "cell_type": "markdown",
   "metadata": {},
   "source": [
    "### Codificação e exemplo:"
   ]
  },
  {
   "cell_type": "code",
   "execution_count": 40,
   "metadata": {},
   "outputs": [],
   "source": [
    "#Classe que define um sistema RSA com funções de encriptação, decriptação, assinatura e autenticação\n",
    "class RSA_Sys:\n",
    "\n",
    "    def __init__(self):\n",
    "        n,e,d = RSA_Sys.gen_keys()\n",
    "        self.n = n # p*q\n",
    "        self.public = e # exponent of public key\n",
    "        self.private = d # exponent of private key\n",
    "\n",
    "    #Sign a message\n",
    "    def sign(self, msg):\n",
    "        return power_mod(msg, self.private, self.n)\n",
    "\n",
    "    #verify signature of coming message\n",
    "    def verify_signature(self, signature, public_key, msg):\n",
    "        check = True\n",
    "        msg_ = power_mod(sign, public_key[1], public_key[0])\n",
    "        if(msg_ != msg):\n",
    "            check = not check\n",
    "        return check\n",
    "\n",
    "    def authenticate(self, msg, public_key):\n",
    "        dec_msg = self.decipher(msg[0])\n",
    "        check = self.verify_signature(msg[1], public_key, dec_msg)\n",
    "        if(check):\n",
    "            print(\"Mensagem Aceite: é autêntica!\")\n",
    "            print(dec_msg)\n",
    "        if(not check):\n",
    "            print(\"Mensagem Rejeitada : Não é autêntica!\")\n",
    "\n",
    "    #Cipher a message to send using the public key of the receiver\n",
    "    def cipher(self, msg, public_key):\n",
    "        return power_mod(msg, public_key[1], public_key[0])\n",
    "\n",
    "\n",
    "    #Decipher a message using private key\n",
    "    def decipher(self, msg):\n",
    "        return power_mod(msg, self.private, self.n)\n",
    "\n",
    "    #Function to generate the public and private keys\n",
    "    @staticmethod\n",
    "    def gen_keys(nbits = 512):\n",
    "        p = random_prime(2^(nbits//2), 2^(nbits//2-2))\n",
    "        q = random_prime(2^(nbits//2 +1), 2^(nbits//2 -1))\n",
    "\n",
    "        while p == q:\n",
    "            p = random_prime(2^(nbits//2), 2^(nbits//2-2))\n",
    "            q = random_prime(2^(nbits//2 +1), 2^(nbits//2 -1))\n",
    "\n",
    "        n = p*q\n",
    "        m = (p-1)*(q-1)\n",
    "        e = randint(2, m-1)\n",
    "        while gcd(e, m) != 1:\n",
    "            e = randint(2,m-1)\n",
    "\n",
    "        d = power_mod(e, -1, m)\n",
    "\n",
    "        return n,e,d"
   ]
  },
  {
   "cell_type": "markdown",
   "metadata": {},
   "source": [
    "#### Exemplo\n",
    "\n",
    "Alice manda manda mensagem a Bob:"
   ]
  },
  {
   "cell_type": "code",
   "execution_count": 41,
   "metadata": {},
   "outputs": [],
   "source": [
    "#Creating RSA system for Alice\n",
    "Alice = RSA_Sys()\n",
    "\n",
    "#Creating RSA system for Bob\n",
    "Bob = RSA_Sys()\n",
    "\n",
    "#Alice public key\n",
    "Public_Alice = (Alice.n, Alice.public)\n",
    "\n",
    "#Bob public key\n",
    "Public_Bob = (Bob.n, Bob.public)\n"
   ]
  },
  {
   "cell_type": "code",
   "execution_count": 42,
   "metadata": {},
   "outputs": [],
   "source": [
    "# Alice wants to send a message to Bob\n",
    "\n",
    "msg=1234567890\n",
    "\n",
    "#Alice ciphers a message with Bob's public key\n",
    "enc_msg = Alice.cipher(msg, Public_Bob)\n",
    "\n",
    "#Alice signs the message\n",
    "sign = Alice.sign(msg)\n",
    "\n",
    "#Alice message is a pair (message, signature)\n",
    "alice_msg = (enc_msg, sign)"
   ]
  },
  {
   "cell_type": "code",
   "execution_count": 43,
   "metadata": {},
   "outputs": [
    {
     "name": "stdout",
     "output_type": "stream",
     "text": [
      "Mensagem Aceite: é autêntica!\n",
      "1234567890\n"
     ]
    }
   ],
   "source": [
    "#Bob verifies signature  Alice public key\n",
    "Bob.authenticate(alice_msg, Public_Alice)"
   ]
  },
  {
   "cell_type": "markdown",
   "metadata": {},
   "source": [
    "### Exemplo 2\n",
    "\n",
    "Chuck faz-se passar por Alice e tenta mandar mensagem a Bob"
   ]
  },
  {
   "cell_type": "code",
   "execution_count": 44,
   "metadata": {},
   "outputs": [],
   "source": [
    "#Creating RSA system for Chuck\n",
    "Chuck = RSA_Sys()\n",
    "\n",
    "msg2 = 666\n",
    "\n",
    "#Chuck assina a mensagem com a sua chave\n",
    "sign2 = Chuck.sign(msg2)\n",
    "\n",
    "#chuck cifra a mensagem com  chave pública de Bob\n",
    "enc_msg2 = Chuck.cipher(msg2, Public_Bob)\n",
    "\n",
    "fake_alice = (enc_msg2, sign2)"
   ]
  },
  {
   "cell_type": "code",
   "execution_count": 38,
   "metadata": {},
   "outputs": [
    {
     "name": "stdout",
     "output_type": "stream",
     "text": [
      "Mensagem Rejeitada : Não é autêntica!\n"
     ]
    }
   ],
   "source": [
    "#Bob verifies signature with Alice public key\n",
    "Bob.authenticate(fake_alice, Public_Alice)"
   ]
  },
  {
   "cell_type": "markdown",
   "metadata": {},
   "source": [
    "$ \\textbf{Bibliografia} $\n",
    "\n",
    "$ \\textit{Cryptography:\\:}$ David R. Kohel, Julho 2008\n",
    "\n",
    "$ \\textit{A Method for Obtaining DigitalSignatures and Public-Key Cryptosystems:\\:}$ R. L. Rivest, A. Shamir and L. Adleman\n",
    "\n",
    "$ \\textit{RSA, Criptografia Assimétrica e Assinatura Digital:\\:}$ Luis Barbosa, Luis Braghetto, Marcelo Brisqui and Sirlei da Silva, UNICAMP, Julho 2003\n",
    "\n",
    "\n",
    "$ \\textbf{Outros} $\n",
    "\n",
    "$ \\url{https://www.youtube.com/watch?v=04Pw9Y2628o}$ $\\:$ Applied Cryptography: The RSA Digital Signature - Part 1\n",
    "\n",
    "$ \\url{https://www.youtube.com/watch?v=iHQH29eT4Ig}$ $\\:$ Applied Cryptography: The RSA Digital Signature - Part 2\n",
    "\n",
    "$ \\url{https://www.youtube.com/watch?v=wXB-V_Keiu8}$ $\\:$ Public Key Cryptography: RSA Encryption Algorithm, Art of the Problem\n",
    "\n",
    "$ \\url{https://www.youtube.com/watch?v=GAR1Ur_2IGk}$ $\\:$ Criptografia - Criptografia RSA, Fábrica de Noobs"
   ]
  },
  {
   "cell_type": "code",
   "execution_count": 0,
   "metadata": {},
   "outputs": [],
   "source": []
  }
 ],
 "metadata": {
  "kernelspec": {
   "display_name": "Python 3",
   "language": "python",
   "name": "python3"
  },
  "language_info": {
   "codemirror_mode": {
    "name": "ipython",
    "version": 3
   },
   "file_extension": ".py",
   "mimetype": "text/x-python",
   "name": "python",
   "nbconvert_exporter": "python",
   "pygments_lexer": "ipython3",
   "version": "3.7.3"
  }
 },
 "nbformat": 4,
 "nbformat_minor": 4
}
