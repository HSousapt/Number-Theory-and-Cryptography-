{
 "cells": [
  {
   "cell_type": "markdown",
   "metadata": {},
   "source": [
    "# Teoria de Números Computacionais\n",
    "## Trabalho 5: Esquema de assinatura ElGamal\n",
    "\n",
    "#### Hugo Sousa (a76257 - LCC)\n",
    "#### Matias Capitão (a82726 - LCC) \n",
    "#### Rafael Antunes (a77457 - LCC)"
   ]
  },
  {
   "cell_type": "markdown",
   "metadata": {},
   "source": [
    "O esquema de assinatura ElGamal é um esquema de assinatura digital baseado no problema do logaritmo discreto e em algumas propriedades algébricas da exponenciação modular.\n",
    "\n",
    "O algoritmo usa um par de chaves que consiste em uma **chave pública** e uma __chave privada__. A chave privada é usada para gerar uma assinatura digital para uma mensagem e essa assinatura pode ser verificada usando a chave pública correspondente do assinante.\n",
    "\n",
    "Esta assinatura digital fornece:\n",
    "\n",
    "- Autenticação da mensagem(O destinatário pode verificar a origem da mensagem)\n",
    "- Integridade(o destinatário pode verificar se a mensagem não foi modificada desde que foi assinada)\n",
    "- Não-repúdio(o remetente não pode alegar falsamente que não assinou a mensagem)\n"
   ]
  },
  {
   "cell_type": "markdown",
   "metadata": {},
   "source": [
    "### Descrição\n",
    "\n",
    "O esquema envolve quatro passos: geração das chaves, distribuição das chaves, assinatura e verificação."
   ]
  },
  {
   "cell_type": "markdown",
   "metadata": {},
   "source": [
    "- #### Geração das chaves\n",
    "\n",
    "1. É escolhido um primo **p** grande(pelo menos 1024 bits)\n",
    "2. Escolhe-se de seguida um $\\alpha$ tal que $<\\alpha>$ = $Z_p^{*}$\n",
    "3. É escolhido um **x** $\\in \\{1,..,p-2\\}$ que será a chave privada chamemos-lhe $K_{private}$\n",
    "4. É computado $y = \\alpha ^x (mod p)$\n",
    "5. É escolhida uma função de hash criptográfica **H**\n",
    "\n",
    "Temos agora a chave privada  $K_{private}$ e a chave pública $K_{public} = (p, \\alpha, y)$"
   ]
  },
  {
   "cell_type": "markdown",
   "metadata": {},
   "source": [
    "- #### Distribuição das chaves\n",
    "\n",
    "A chave $K_{public}$ é enviada por um meio confiável, mas não nesseráriamente secreto"
   ]
  },
  {
   "cell_type": "markdown",
   "metadata": {},
   "source": [
    "- #### Assinatura\n",
    "\n",
    "Seja **m** a mensagem a ser enviada o emissor da mensagem procede da seguinte forma:\n",
    "\n",
    "1. Escolhe um número **e** $\\in\\{2,...,p-2\\}$ tal que $mdc(e,p-1) = 1$\n",
    "2. Computa   $K_e = \\alpha^e(mod p)$  a que chamamos \"chave efémera\" (pode ser diferente em cada comunicação)\n",
    "3. O emissor por fim computa  $s = (H(m) - K_{private}*r)*e^{-1} (mod (p-1))$\n",
    "\n",
    "A assinatura é então o par **(r,s)**"
   ]
  },
  {
   "cell_type": "markdown",
   "metadata": {},
   "source": [
    "- #### Verificação\n",
    "\n",
    "O receptor da mensagem recebe a mensagem **m** e a assinatura __(r,s)__ e com acesso à chave pública procede:\n",
    "\n",
    "1. Verifica se $0 < r < p$ e $0 < s < p-1$\n",
    "2. É computado $t = y^r * r^s $\n",
    "3. Se $\\alpha^{H(m)}\\equiv t (mod p)$ então a assinatura é verificada caso contrário não é verificada."
   ]
  },
  {
   "cell_type": "markdown",
   "metadata": {},
   "source": [
    "### Exemplo\n",
    "\n",
    "- __Geração das chaves__:\n",
    "\n",
    "Escolhemos um primo, por exemplo : p = 79\n",
    "\n",
    "Escolhemos um gerador de $Z^*_{79}$, por exemplo : $\\alpha = 30$\n",
    "\n",
    "Escolhemos um um número aleatório x $\\in \\{1,...,77\\}$, por exemplo : x = 61\n",
    "\n",
    "Calculamos $y = \\alpha ^x (mod p)$: $y = 30^{61} (mod 79) = 59$\n",
    "\n",
    "\n",
    "- __Distribuição das chaves__:\n",
    "\n",
    "Publicamos a chave público $K_{publica} = (79, 30, 59)$ e guardamos a chave privada $K_{privada} = 61$\n",
    "\n",
    "- __Assinatura__:\n",
    "\n",
    "Seja a mensagem $m = 44$\n",
    "\n",
    "O emissor escolhe um número aleatório $e \\in \\{2,..., 77\\}$ tal que mdc(e, 78) = 1 por exemplo: e = 5\n",
    "\n",
    "É calculada a chave efémera $K_e = 30^5 (mod 79) = 74$\n",
    "\n",
    "É calculado $s = (44 - 61*74)*5^{-1}(mod78) = (44-4514)*47(mod 78) = -210090(mod 78) = 42$\n",
    "\n",
    "$(74,42)$ é a assinatura e é enviada com a mensagem\n",
    "\n",
    "- __Verificação__:\n",
    "\n",
    "Verifica-se se  $\\alpha^{m}\\equiv t (mod p)$ onde $t = y^r * r^s $\n",
    "\n",
    "v1 = $30^{44}(mod 79) = 5$\n",
    "\n",
    "\n",
    "v2 = $(59^{74}*74^{42})(mod 79)= 5$\n",
    "\n",
    "v1 = v2 Logo a assinatura é válida"
   ]
  },
  {
   "cell_type": "markdown",
   "metadata": {},
   "source": [
    "### Codificação\n",
    "\n",
    "#### Nota: \n",
    "Neste exemplo de código vamos assumir que a função de hash criptográfica está definida e vamos usar número relativamente pequenos para meios de exemplificação."
   ]
  },
  {
   "cell_type": "code",
   "execution_count": 11,
   "metadata": {},
   "outputs": [],
   "source": [
    "import random\n",
    "\n",
    "class ElGamal_DS:\n",
    "    def __init__(self):\n",
    "        p, g, x, y = self.gen_keys()\n",
    "        self.p = p\n",
    "        self.g = g\n",
    "        self.private = x\n",
    "        self.public = y\n",
    "    \n",
    "    @staticmethod   \n",
    "    def gen_keys(nbits = 16):\n",
    "        #é escolhido um nr primo aleatório\n",
    "        p = random_prime(2^(nbits//2), 2^(nbits//2-2))\n",
    "        #é escolhido um gerador(raiz primitiva) do grupo multiplicativo\n",
    "        g = primitive_root(p)\n",
    "        #é escolhido um nr x que será a chave privada\n",
    "        x = randint(1,p-1)\n",
    "        #é computada a chave pública\n",
    "        y = power_mod(g,x,p)\n",
    "        return p, g, x, y\n",
    "    \n",
    "    def publish_key(self):\n",
    "        return(self.p, self.g, self.public)\n",
    "    \n",
    "    def sign(self, m):\n",
    "        e = randint(2, self.p-2)\n",
    "        while(gcd(e,(self.p -1))!=1):\n",
    "            e = randint(2,(self.p-2))\n",
    "        r = power_mod(self.g, e, self.p)\n",
    "        aux1 = m-(self.private *r)\n",
    "        aux2 = power_mod(e, -1, self.p - 1)\n",
    "        s = mod(aux1*aux2,self.p-1)\n",
    "        return(r,s)\n",
    "    \n",
    "    def verify(self, msg, sign, pubk):\n",
    "        #verifica se 0<r<p e  0<s<p-1\n",
    "        if(not(0 < sign[0] < pubk[0]) and not(0 < sign[1] < (pubk[0] - 1))):\n",
    "            print(\"Signature not valid!\")\n",
    "            return\n",
    "        t = mod(pow(pubk[2],sign[0]) * pow(sign[0], sign[1]), pubk[0])\n",
    "        m = power_mod(pubk[1], msg, pubk[0])\n",
    "        if(t == m):\n",
    "            print(\"Assinatura verificada! Mensagen é autêntica\")\n",
    "        else:\n",
    "            print(\"Erro de assinatura!! Mensagem não é autêntica!\")"
   ]
  },
  {
   "cell_type": "markdown",
   "metadata": {},
   "source": [
    "### Exemplo\n",
    "\n",
    "Bob manda mensagem assinada a Alice"
   ]
  },
  {
   "cell_type": "code",
   "execution_count": 12,
   "metadata": {},
   "outputs": [],
   "source": [
    "#Bob gera as suas chaves \n",
    "Bob = ElGamal_DS()\n",
    "msg =123\n",
    "\n",
    "#Bob publica a chave publica\n",
    "pkey = Bob.publish_key()\n",
    "\n",
    "#Bob assina a msg e envia a Alice\n",
    "signature= Bob.sign(msg)"
   ]
  },
  {
   "cell_type": "code",
   "execution_count": 13,
   "metadata": {},
   "outputs": [
    {
     "name": "stdout",
     "output_type": "stream",
     "text": [
      "Assinatura verificada! Mensagen é autêntica\n"
     ]
    }
   ],
   "source": [
    "Alice = ElGamal_DS()\n",
    "\n",
    "#Alice recebe a mensagem verifica a assinatura\n",
    "Alice.verify(msg, signature , pkey)"
   ]
  },
  {
   "cell_type": "markdown",
   "metadata": {},
   "source": [
    "Chuck tenta fazer-se passar por Bob"
   ]
  },
  {
   "cell_type": "code",
   "execution_count": 14,
   "metadata": {},
   "outputs": [],
   "source": [
    "Chuck = ElGamal_DS()\n",
    "\n",
    "#Chuck intercepta a mensagem de Bob assina-a e manda a Alice\n",
    "false_sign = Chuck.sign(msg)"
   ]
  },
  {
   "cell_type": "code",
   "execution_count": 15,
   "metadata": {},
   "outputs": [
    {
     "name": "stdout",
     "output_type": "stream",
     "text": [
      "Erro de assinatura!! Mensagem não é autêntica!\n"
     ]
    }
   ],
   "source": [
    "Alice = ElGamal_DS()\n",
    "\n",
    "#Alice recebe a mensagem  de Chuck verifica a assinatura\n",
    "Alice.verify(msg, false_sign , pkey)"
   ]
  },
  {
   "cell_type": "markdown",
   "metadata": {},
   "source": [
    "### Bibliografia\n",
    "\n",
    "David R. Kohel - Cryptography\n",
    "\n",
    "<https://en.wikipedia.org/wiki/ElGamal_signature_scheme> - Wikipedia: Elgamal Signature Scheme\n",
    "\n",
    "<https://www.youtube.com/watch?v=iiukwTar6Fo&list=PL1xkDS1G9As4Yz_te20j1A9evIjt5Z06e&index=128> - Applied Cryptography: The ElGamal Digital Signature"
   ]
  },
  {
   "cell_type": "code",
   "execution_count": null,
   "metadata": {},
   "outputs": [],
   "source": []
  }
 ],
 "metadata": {
  "kernelspec": {
   "display_name": "SageMath 8.6",
   "language": "",
   "name": "sagemath"
  },
  "language_info": {
   "codemirror_mode": {
    "name": "ipython",
    "version": 2
   },
   "file_extension": ".py",
   "mimetype": "text/x-python",
   "name": "python",
   "nbconvert_exporter": "python",
   "pygments_lexer": "ipython2",
   "version": "2.7.16"
  }
 },
 "nbformat": 4,
 "nbformat_minor": 2
}
