{
 "cells": [
  {
   "cell_type": "markdown",
   "metadata": {},
   "source": [
    "# Teoria de Números Computacionais\n",
    "## Trabalho 3: Teste de primalidade de Lucas\n",
    "\n",
    "#### Hugo Sousa (a76257 - LCC)\n",
    "#### Matias Capitão (a82726 - LCC) \n",
    "#### Rafael Antunes (a77457 - LCC)"
   ]
  },
  {
   "cell_type": "markdown",
   "metadata": {},
   "source": [
    "### O teste de primalidade de Lucas\n",
    "\n",
    "\n",
    "Um número positivo $n$ é __primo__ se existe um inteiro $a$, onde $1 < a < n$, tal que :\n",
    "\n",
    "\n",
    "<center> $a^{n-1}\\equiv 1 (mod \\ n) $ </center>\n",
    "\n",
    "e para todos os factores primos $q$ de $n-1$:\n",
    "\n",
    "<center> $a^\\frac{n-1}{q} \\not\\equiv 1 (mod \\ n)$ </center>\n",
    "\n",
    "Caso tal número não exista, significa que $n$ é 1, 2 ou um __número composto__."
   ]
  },
  {
   "cell_type": "markdown",
   "metadata": {},
   "source": [
    "### Demonstração\n",
    "\n",
    "Suponhamos que existe um número inteiro $a$ tal que $a^{n-1}\\equiv 1 (mod \\ n) $ mas $a^\\frac{n-1}{q} \\not\\equiv 1 (mod \\ n)$ para todo o primo $q$, tal que $q|(n-1)$, vamos mostrar que $n$ é primo.\n",
    "\n",
    "Como $a^{n-1}\\equiv 1 (mod \\ n) $ temos que $ord_n(a) | (n-1)$, pois $ord_n(a)$ é o menor número $k$ tal que $a^k\\equiv 1 (mod \\ n) $, deduzimos também que $m.d.c(a, n) = 1$. Por $a^\\frac{n-1}{q} \\not\\equiv 1 (mod \\ n)$ temos que $ord_n(a)$ não é divisor próprio de $(n−1)$, logo $ord_n(a) = n−1$ .  Também sabemos que $ ord_n(a) \\ | \\ \\phi(n) $, pois $a$ e $n$ são coprimos, logo $\\phi(n) \\geqslant n−1 $ E que $\\phi(n) \\leqslant n−1 $ qualquer que seja $n \\geqslant 2$, então $\\phi(n) = n−1 $. Logo, $n$ é um número primo.\n",
    "\n",
    "#### Nota:\n",
    "Para a realização deste teste é necessário o conhecimento de todos os fatores primos de n-1."
   ]
  },
  {
   "cell_type": "markdown",
   "metadata": {},
   "source": [
    "### Exemplo:\n",
    "\n",
    "Vamos verificar que 31 é primo recorrendo ao teste anterior\n",
    "\n",
    "Consideremos $n = 31$, $n – 1 = 30 = 2 × 3 × 5$ a decomposição em factores primos. Vamos supor também que $a = 3$\n",
    "\n",
    "\n",
    "<center> $3^{30}\\equiv 1 (mod \\ 31) $ </center>\n",
    "\n",
    "<center> $3^\\frac{30}{2}\\equiv 30 (mod \\ 31) $ </center>\n",
    "\n",
    "<center> $3^\\frac{30}{3}\\equiv 25 (mod \\ 31) $ </center>\n",
    "\n",
    "<center> $3^\\frac{30}{5}\\equiv 16 (mod \\ 31) $ </center>\n",
    "\n",
    "Então pelo teste de Lucas 31 é primo"
   ]
  },
  {
   "cell_type": "markdown",
   "metadata": {},
   "source": [
    "### Descrição\n",
    "\n",
    "__1.__ Começamos por escolher um número $n$ relativamente grande;\n",
    "\n",
    "__2.__ Encontrar a lista de factores primos de $n$-1;\n",
    "\n",
    "__3.__ Escolher um número $a$ aleatório compreednido entre 1 e $n$ (1 < $a$ < $n$);\n",
    "\n",
    "__4.__ Testamos para este $a$ se   $\\ a^ {n − 1}   ≡   1 \\ ( mod \\ n )$;\n",
    "\n",
    "__5.__ Para cada $q\\ $ pertencente à lista de factores de primos de $n$, referida em 2., iremos testar a condição $ a^{(n-1)/q} \\  ≢ \\  1 \\ ( mod \\ n ) $.\n",
    "\n",
    "$\\ \\ \\ \\ $ __5.1.__ Se obtivermos $True$ significa que, para cada $q$, a condição verifica-se e então o número $n$ é primo;\n",
    "\n",
    "$\\ \\ \\ \\ $ __5.2.__ Se obtivermos $False$ teremos de regressar a __3.__ para encontrar um novo $a$."
   ]
  },
  {
   "cell_type": "code",
   "execution_count": 87,
   "metadata": {},
   "outputs": [],
   "source": [
    "import random\n",
    "\n",
    "#Função que retorna a lista de factores primos de um número n. '''\n",
    "def prime_factors(n):\n",
    "    return [i[0] for i in factor(n)]\n",
    "\n",
    "#Função que retorna True se n é primo e False se n não é primo utilizando o Teste de Lucas\n",
    "#Recebe um inteiro que se quer testar e o número de tentativas para gerar um a aleatório de a não funcionar\n",
    "def TesteLucas(n,  attempts):\n",
    "    # casos base \n",
    "    if (n == 1): \n",
    "        print(n.str() + \" neither prime nor comosite\")\n",
    "        return\n",
    "    if (n == 2): \n",
    "        print(n.str() + \" is prime\")\n",
    "        return\n",
    "    if ( n%2 == 0) :\n",
    "        print(n.str() + \" is composite\")\n",
    "        return\n",
    "    \n",
    "    \n",
    "    factors = prime_factors(n-1)\n",
    "    \n",
    "    for i  in range(0, attempts):\n",
    "        \n",
    "        a = randint(2,n)\n",
    "        \n",
    "        if(power_mod(a,n-1,n) != 1):\n",
    "            print(n.str() + \" is composite\")\n",
    "            return\n",
    "            \n",
    "        flag = True\n",
    "        \n",
    "        for factor in factors:\n",
    "            exp = ((n-1)//factor)\n",
    "            if power_mod(a, exp, n) == Integer(1):\n",
    "                flag = False\n",
    "                break;\n",
    "                \n",
    "            if(flag):\n",
    "                print(n.str() + \" is prime\")\n",
    "                return                \n",
    "    \n",
    "    print(n.str() + \" probably is composite\")"
   ]
  },
  {
   "cell_type": "code",
   "execution_count": 88,
   "metadata": {},
   "outputs": [
    {
     "data": {
      "text/plain": [
       "True"
      ]
     },
     "execution_count": 88,
     "metadata": {},
     "output_type": "execute_result"
    }
   ],
   "source": [
    "7894712838817652092345678909876542345676757867854674764675867856607.is_prime()"
   ]
  },
  {
   "cell_type": "code",
   "execution_count": 89,
   "metadata": {},
   "outputs": [
    {
     "name": "stdout",
     "output_type": "stream",
     "text": [
      "7894712838817652092345678909876542345676757867854674764675867856607 is prime\n"
     ]
    }
   ],
   "source": [
    "#Com a função que definimos\n",
    "TesteLucas(7894712838817652092345678909876542345676757867854674764675867856607, 15)"
   ]
  },
  {
   "cell_type": "code",
   "execution_count": 90,
   "metadata": {},
   "outputs": [
    {
     "name": "stdout",
     "output_type": "stream",
     "text": [
      "789471283881765209234102830913091230913112312311111119871 is composite\n"
     ]
    }
   ],
   "source": [
    "TesteLucas(789471283881765209234102830913091230913112312311111119871, 15)"
   ]
  },
  {
   "cell_type": "markdown",
   "metadata": {},
   "source": [
    "## Bibliografia\n",
    "\n",
    "<https://www.mathpages.com/home/kmath473/kmath473.htm> _mathpages_\n",
    "\n",
    "<https://en.wikipedia.org/wiki/Lucas_primality_test> _Wikipedia - Lucas primality test_\n",
    "\n",
    "<https://www.geeksforgeeks.org/lucas-primality-test/> _geeksforgeeks - Lucas primality test_"
   ]
  }
 ],
 "metadata": {
  "kernelspec": {
   "display_name": "SageMath 8.6",
   "language": "",
   "name": "sagemath"
  },
  "language_info": {
   "codemirror_mode": {
    "name": "ipython",
    "version": 2
   },
   "file_extension": ".py",
   "mimetype": "text/x-python",
   "name": "python",
   "nbconvert_exporter": "python",
   "pygments_lexer": "ipython2",
   "version": "2.7.16"
  }
 },
 "nbformat": 4,
 "nbformat_minor": 2
}
